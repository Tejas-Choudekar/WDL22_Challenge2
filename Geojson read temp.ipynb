{
 "cells": [
  {
   "cell_type": "markdown",
   "id": "e4c514cf",
   "metadata": {},
   "source": [
    "## Reading Geojson data using geopandas\n",
    "### Tejas Choudekar"
   ]
  },
  {
   "cell_type": "code",
   "execution_count": 1,
   "id": "7aace67a",
   "metadata": {},
   "outputs": [],
   "source": [
    "import sys\n",
    "from pathlib import Path\n",
    "import json\n",
    "\n",
    "import pandas as pd\n",
    "import numpy as np\n",
    "import geopandas as gp\n",
    "import matplotlib"
   ]
  },
  {
   "cell_type": "code",
   "execution_count": 21,
   "id": "3a5400d7",
   "metadata": {},
   "outputs": [
    {
     "data": {
      "text/html": [
       "<div>\n",
       "<style scoped>\n",
       "    .dataframe tbody tr th:only-of-type {\n",
       "        vertical-align: middle;\n",
       "    }\n",
       "\n",
       "    .dataframe tbody tr th {\n",
       "        vertical-align: top;\n",
       "    }\n",
       "\n",
       "    .dataframe thead th {\n",
       "        text-align: right;\n",
       "    }\n",
       "</style>\n",
       "<table border=\"1\" class=\"dataframe\">\n",
       "  <thead>\n",
       "    <tr style=\"text-align: right;\">\n",
       "      <th></th>\n",
       "      <th>Geometry name</th>\n",
       "      <th>Nome</th>\n",
       "      <th>Tipo</th>\n",
       "      <th>Classificação</th>\n",
       "      <th>Comprimento</th>\n",
       "      <th>Sentido</th>\n",
       "      <th>Código</th>\n",
       "      <th>Rua Id</th>\n",
       "      <th>geometry</th>\n",
       "    </tr>\n",
       "  </thead>\n",
       "  <tbody>\n",
       "    <tr>\n",
       "      <th>0</th>\n",
       "      <td>Posição</td>\n",
       "      <td>Rua Lucília do Carmo (Fadista)</td>\n",
       "      <td>Normal</td>\n",
       "      <td>Rua</td>\n",
       "      <td>44.81</td>\n",
       "      <td>Dois Sentidos</td>\n",
       "      <td>20000</td>\n",
       "      <td>1686247</td>\n",
       "      <td>None</td>\n",
       "    </tr>\n",
       "    <tr>\n",
       "      <th>1</th>\n",
       "      <td>Posição</td>\n",
       "      <td>Rua Baptista Pereira</td>\n",
       "      <td>Normal</td>\n",
       "      <td>Rua</td>\n",
       "      <td>16.33</td>\n",
       "      <td>Dois Sentidos</td>\n",
       "      <td>20002</td>\n",
       "      <td>1675638</td>\n",
       "      <td>None</td>\n",
       "    </tr>\n",
       "    <tr>\n",
       "      <th>2</th>\n",
       "      <td>Posição</td>\n",
       "      <td>Rua Baptista Pereira</td>\n",
       "      <td>Normal</td>\n",
       "      <td>Rua</td>\n",
       "      <td>15.54</td>\n",
       "      <td>Directo</td>\n",
       "      <td>20003</td>\n",
       "      <td>1675638</td>\n",
       "      <td>None</td>\n",
       "    </tr>\n",
       "    <tr>\n",
       "      <th>3</th>\n",
       "      <td>Posição</td>\n",
       "      <td>Rua Aires de Saldanha</td>\n",
       "      <td>Normal</td>\n",
       "      <td>Rua</td>\n",
       "      <td>8.411</td>\n",
       "      <td>Dois Sentidos</td>\n",
       "      <td>16904</td>\n",
       "      <td>2234168</td>\n",
       "      <td>None</td>\n",
       "    </tr>\n",
       "    <tr>\n",
       "      <th>4</th>\n",
       "      <td>Posição</td>\n",
       "      <td>Praceta Aires de Saldanha</td>\n",
       "      <td>Normal</td>\n",
       "      <td>Rua</td>\n",
       "      <td>38.82</td>\n",
       "      <td>Dois Sentidos</td>\n",
       "      <td>16905</td>\n",
       "      <td>2234217</td>\n",
       "      <td>None</td>\n",
       "    </tr>\n",
       "    <tr>\n",
       "      <th>...</th>\n",
       "      <td>...</td>\n",
       "      <td>...</td>\n",
       "      <td>...</td>\n",
       "      <td>...</td>\n",
       "      <td>...</td>\n",
       "      <td>...</td>\n",
       "      <td>...</td>\n",
       "      <td>...</td>\n",
       "      <td>...</td>\n",
       "    </tr>\n",
       "    <tr>\n",
       "      <th>12008</th>\n",
       "      <td>Posição</td>\n",
       "      <td>Rotunda Cacilda Celso - Poetisa (1929-2010)</td>\n",
       "      <td>Normal</td>\n",
       "      <td>Rua</td>\n",
       "      <td>15.51</td>\n",
       "      <td>Inverso</td>\n",
       "      <td>None</td>\n",
       "      <td>2836350</td>\n",
       "      <td>None</td>\n",
       "    </tr>\n",
       "    <tr>\n",
       "      <th>12009</th>\n",
       "      <td>Posição</td>\n",
       "      <td>Rotunda Cacilda Celso - Poetisa (1929-2010)</td>\n",
       "      <td>Normal</td>\n",
       "      <td>Rua</td>\n",
       "      <td>16.74</td>\n",
       "      <td>Directo</td>\n",
       "      <td>None</td>\n",
       "      <td>2836350</td>\n",
       "      <td>None</td>\n",
       "    </tr>\n",
       "    <tr>\n",
       "      <th>12010</th>\n",
       "      <td>Posição</td>\n",
       "      <td>Estrada da Rebelva</td>\n",
       "      <td>Normal</td>\n",
       "      <td>Rua</td>\n",
       "      <td>51.45</td>\n",
       "      <td>Dois Sentidos</td>\n",
       "      <td>13155</td>\n",
       "      <td>1668318</td>\n",
       "      <td>None</td>\n",
       "    </tr>\n",
       "    <tr>\n",
       "      <th>12011</th>\n",
       "      <td>Posição</td>\n",
       "      <td>Rua Sem Nome</td>\n",
       "      <td>Normal</td>\n",
       "      <td>Rua</td>\n",
       "      <td>171.0</td>\n",
       "      <td>Dois Sentidos</td>\n",
       "      <td>None</td>\n",
       "      <td>2836905</td>\n",
       "      <td>None</td>\n",
       "    </tr>\n",
       "    <tr>\n",
       "      <th>12012</th>\n",
       "      <td>Posição</td>\n",
       "      <td>Rua Pêro de Alenquer</td>\n",
       "      <td>Normal</td>\n",
       "      <td>Rua</td>\n",
       "      <td>79.87</td>\n",
       "      <td>Dois Sentidos</td>\n",
       "      <td>13029</td>\n",
       "      <td>1690933</td>\n",
       "      <td>None</td>\n",
       "    </tr>\n",
       "  </tbody>\n",
       "</table>\n",
       "<p>12013 rows × 9 columns</p>\n",
       "</div>"
      ],
      "text/plain": [
       "      Geometry name                                         Nome    Tipo  \\\n",
       "0           Posição               Rua Lucília do Carmo (Fadista)  Normal   \n",
       "1           Posição                         Rua Baptista Pereira  Normal   \n",
       "2           Posição                         Rua Baptista Pereira  Normal   \n",
       "3           Posição                        Rua Aires de Saldanha  Normal   \n",
       "4           Posição                    Praceta Aires de Saldanha  Normal   \n",
       "...             ...                                          ...     ...   \n",
       "12008       Posição  Rotunda Cacilda Celso - Poetisa (1929-2010)  Normal   \n",
       "12009       Posição  Rotunda Cacilda Celso - Poetisa (1929-2010)  Normal   \n",
       "12010       Posição                           Estrada da Rebelva  Normal   \n",
       "12011       Posição                                 Rua Sem Nome  Normal   \n",
       "12012       Posição                         Rua Pêro de Alenquer  Normal   \n",
       "\n",
       "      Classificação Comprimento        Sentido Código   Rua Id geometry  \n",
       "0               Rua       44.81  Dois Sentidos  20000  1686247     None  \n",
       "1               Rua       16.33  Dois Sentidos  20002  1675638     None  \n",
       "2               Rua       15.54        Directo  20003  1675638     None  \n",
       "3               Rua       8.411  Dois Sentidos  16904  2234168     None  \n",
       "4               Rua       38.82  Dois Sentidos  16905  2234217     None  \n",
       "...             ...         ...            ...    ...      ...      ...  \n",
       "12008           Rua       15.51        Inverso   None  2836350     None  \n",
       "12009           Rua       16.74        Directo   None  2836350     None  \n",
       "12010           Rua       51.45  Dois Sentidos  13155  1668318     None  \n",
       "12011           Rua       171.0  Dois Sentidos   None  2836905     None  \n",
       "12012           Rua       79.87  Dois Sentidos  13029  1690933     None  \n",
       "\n",
       "[12013 rows x 9 columns]"
      ]
     },
     "metadata": {},
     "output_type": "display_data"
    }
   ],
   "source": [
    "geo_data = gp.read_file('eixodevia.geojson', ignore_geometry=False, encoding = 'utf-8')\n",
    "\n",
    "display(geo_data)"
   ]
  },
  {
   "cell_type": "code",
   "execution_count": 9,
   "id": "81e9d6dc",
   "metadata": {},
   "outputs": [
    {
     "name": "stdout",
     "output_type": "stream",
     "text": [
      "Collecting geojson\n",
      "  Downloading geojson-2.5.0-py2.py3-none-any.whl (14 kB)\n",
      "Installing collected packages: geojson\n",
      "Successfully installed geojson-2.5.0\n",
      "Note: you may need to restart the kernel to use updated packages.\n"
     ]
    }
   ],
   "source": [
    "pip install geojson\n"
   ]
  },
  {
   "cell_type": "code",
   "execution_count": 11,
   "id": "411fede8",
   "metadata": {},
   "outputs": [],
   "source": [
    "import geojson\n",
    "with open('eixodevia.geojson',encoding = 'utf-8') as f:\n",
    "    gj = geojson.load(f)\n",
    "features = gj['features'][0]"
   ]
  },
  {
   "cell_type": "code",
   "execution_count": 12,
   "id": "9775e6b6",
   "metadata": {},
   "outputs": [
    {
     "data": {
      "text/plain": [
       "{\"geometry\": {\"coordinates\": [[[-9.390736, 38.735569], [-9.391252, 38.735566]]], \"type\": \"LineString\"}, \"properties\": {\"Classifica\\u00e7\\u00e3o\": \"Rua\", \"Comprimento\": \"44.81\", \"C\\u00f3digo\": \"20000\", \"Geometry name\": \"Posi\\u00e7\\u00e3o\", \"Nome\": \"Rua Luc\\u00edlia do Carmo (Fadista)\", \"Rua Id\": \"1686247\", \"Sentido\": \"Dois Sentidos\", \"Tipo\": \"Normal\"}, \"type\": \"Feature\"}"
      ]
     },
     "execution_count": 12,
     "metadata": {},
     "output_type": "execute_result"
    }
   ],
   "source": [
    "features"
   ]
  },
  {
   "cell_type": "code",
   "execution_count": 13,
   "id": "006788ad",
   "metadata": {},
   "outputs": [
    {
     "data": {
      "text/plain": [
       "<_io.TextIOWrapper name='eixodevia.geojson' mode='r' encoding='utf-8'>"
      ]
     },
     "execution_count": 13,
     "metadata": {},
     "output_type": "execute_result"
    }
   ],
   "source": [
    "f"
   ]
  },
  {
   "cell_type": "code",
   "execution_count": 25,
   "id": "da2eeebc",
   "metadata": {},
   "outputs": [
    {
     "data": {
      "text/plain": [
       "[[[-9.332376, 38.746986],\n",
       "  [-9.332266, 38.747064],\n",
       "  [-9.332183, 38.747118],\n",
       "  [-9.33217, 38.747133],\n",
       "  [-9.332161, 38.74715],\n",
       "  [-9.332158, 38.747167],\n",
       "  [-9.332159, 38.747185],\n",
       "  [-9.332166, 38.747202],\n",
       "  [-9.332177, 38.747217],\n",
       "  [-9.332327, 38.747357],\n",
       "  [-9.332431, 38.747436]]]"
      ]
     },
     "execution_count": 25,
     "metadata": {},
     "output_type": "execute_result"
    }
   ],
   "source": [
    "gj['features'][5]['geometry']['coordinates']"
   ]
  },
  {
   "cell_type": "code",
   "execution_count": 23,
   "id": "739bc343",
   "metadata": {},
   "outputs": [
    {
     "name": "stdout",
     "output_type": "stream",
     "text": [
      "<class 'geopandas.geodataframe.GeoDataFrame'>\n"
     ]
    }
   ],
   "source": [
    "print(type(geo_data))"
   ]
  },
  {
   "cell_type": "code",
   "execution_count": null,
   "id": "9d4846d3",
   "metadata": {},
   "outputs": [],
   "source": [
    "df_geo_coordinates = gp.GeoDataFrame(gj['features'][5]['geometry']['coordinates'])"
   ]
  }
 ],
 "metadata": {
  "kernelspec": {
   "display_name": "Python 3",
   "language": "python",
   "name": "python3"
  },
  "language_info": {
   "codemirror_mode": {
    "name": "ipython",
    "version": 3
   },
   "file_extension": ".py",
   "mimetype": "text/x-python",
   "name": "python",
   "nbconvert_exporter": "python",
   "pygments_lexer": "ipython3",
   "version": "3.8.8"
  }
 },
 "nbformat": 4,
 "nbformat_minor": 5
}
