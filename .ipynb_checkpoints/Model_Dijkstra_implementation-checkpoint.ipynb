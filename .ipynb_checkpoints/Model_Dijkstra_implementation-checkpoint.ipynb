{
 "cells": [
  {
   "cell_type": "markdown",
   "id": "eac5209c",
   "metadata": {},
   "source": [
    "## Reading Geojson data using geopandas\n",
    "### Tejas Choudekar"
   ]
  },
  {
   "cell_type": "code",
   "execution_count": 1,
   "id": "be326a5e",
   "metadata": {},
   "outputs": [
    {
     "ename": "ModuleNotFoundError",
     "evalue": "No module named 'obspy'",
     "output_type": "error",
     "traceback": [
      "\u001b[0;31m---------------------------------------------------------------------------\u001b[0m",
      "\u001b[0;31mModuleNotFoundError\u001b[0m                       Traceback (most recent call last)",
      "\u001b[0;32m<ipython-input-1-e48b18a307a2>\u001b[0m in \u001b[0;36m<module>\u001b[0;34m\u001b[0m\n\u001b[1;32m     15\u001b[0m \u001b[0;32mimport\u001b[0m \u001b[0mfolium\u001b[0m\u001b[0;34m\u001b[0m\u001b[0;34m\u001b[0m\u001b[0m\n\u001b[1;32m     16\u001b[0m \u001b[0;32mfrom\u001b[0m \u001b[0mgeojson\u001b[0m \u001b[0;32mimport\u001b[0m \u001b[0mFeature\u001b[0m\u001b[0;34m,\u001b[0m \u001b[0mFeatureCollection\u001b[0m\u001b[0;34m,\u001b[0m \u001b[0mPoint\u001b[0m\u001b[0;34m\u001b[0m\u001b[0;34m\u001b[0m\u001b[0m\n\u001b[0;32m---> 17\u001b[0;31m \u001b[0;32mfrom\u001b[0m \u001b[0mobspy\u001b[0m\u001b[0;34m.\u001b[0m\u001b[0mgeodetics\u001b[0m \u001b[0;32mimport\u001b[0m \u001b[0mdegrees2kilometers\u001b[0m\u001b[0;34m\u001b[0m\u001b[0;34m\u001b[0m\u001b[0m\n\u001b[0m\u001b[1;32m     18\u001b[0m \u001b[0;32mfrom\u001b[0m \u001b[0mgeopy\u001b[0m \u001b[0;32mimport\u001b[0m \u001b[0mdistance\u001b[0m\u001b[0;34m\u001b[0m\u001b[0;34m\u001b[0m\u001b[0m\n",
      "\u001b[0;31mModuleNotFoundError\u001b[0m: No module named 'obspy'"
     ]
    }
   ],
   "source": [
    "import sys\n",
    "from pathlib import Path\n",
    "import json\n",
    "\n",
    "import pandas as pd\n",
    "import numpy as np\n",
    "#pip install folium matplotlib mapclassify\n",
    "import geopandas as gp\n",
    "from shapely.geometry import LineString, shape, Point, Polygon\n",
    "import fiona\n",
    "import matplotlib\n",
    "# pip install fastai\n",
    "from fastai.imports import *\n",
    "import gtfs_kit as gk\n",
    "import folium\n",
    "from geojson import Feature, FeatureCollection, Point\n",
    "from obspy.geodetics import degrees2kilometers\n",
    "from geopy import distance"
   ]
  },
  {
   "cell_type": "code",
   "execution_count": 2,
   "id": "81e79b78",
   "metadata": {},
   "outputs": [
    {
     "name": "stdout",
     "output_type": "stream",
     "text": [
      "Collecting obspy\n",
      "  Downloading obspy-1.3.0-cp38-cp38-macosx_10_9_x86_64.whl (14.0 MB)\n",
      "\u001b[K     |████████████████████████████████| 14.0 MB 2.3 MB/s eta 0:00:01\n",
      "\u001b[?25hRequirement already satisfied: numpy>=1.15.0 in /Users/cristiancastro/opt/anaconda3/lib/python3.8/site-packages (from obspy) (1.20.2)\n",
      "Requirement already satisfied: setuptools in /Users/cristiancastro/opt/anaconda3/lib/python3.8/site-packages (from obspy) (52.0.0.post20210125)\n",
      "Requirement already satisfied: requests in /Users/cristiancastro/opt/anaconda3/lib/python3.8/site-packages (from obspy) (2.25.1)\n",
      "Requirement already satisfied: scipy>=1.0.0 in /Users/cristiancastro/opt/anaconda3/lib/python3.8/site-packages (from obspy) (1.8.0)\n",
      "Requirement already satisfied: decorator in /Users/cristiancastro/opt/anaconda3/lib/python3.8/site-packages (from obspy) (5.0.9)\n",
      "Requirement already satisfied: sqlalchemy in /Users/cristiancastro/opt/anaconda3/lib/python3.8/site-packages (from obspy) (1.4.15)\n",
      "Requirement already satisfied: lxml in /Users/cristiancastro/opt/anaconda3/lib/python3.8/site-packages (from obspy) (4.8.0)\n",
      "Requirement already satisfied: matplotlib>=3.2.0 in /Users/cristiancastro/opt/anaconda3/lib/python3.8/site-packages (from obspy) (3.3.4)\n",
      "Requirement already satisfied: python-dateutil>=2.1 in /Users/cristiancastro/opt/anaconda3/lib/python3.8/site-packages (from matplotlib>=3.2.0->obspy) (2.8.1)\n",
      "Requirement already satisfied: pyparsing!=2.0.4,!=2.1.2,!=2.1.6,>=2.0.3 in /Users/cristiancastro/opt/anaconda3/lib/python3.8/site-packages (from matplotlib>=3.2.0->obspy) (2.4.7)\n",
      "Requirement already satisfied: pillow>=6.2.0 in /Users/cristiancastro/opt/anaconda3/lib/python3.8/site-packages (from matplotlib>=3.2.0->obspy) (8.2.0)\n",
      "Requirement already satisfied: cycler>=0.10 in /Users/cristiancastro/opt/anaconda3/lib/python3.8/site-packages (from matplotlib>=3.2.0->obspy) (0.10.0)\n",
      "Requirement already satisfied: kiwisolver>=1.0.1 in /Users/cristiancastro/opt/anaconda3/lib/python3.8/site-packages (from matplotlib>=3.2.0->obspy) (1.3.1)\n",
      "Requirement already satisfied: six in /Users/cristiancastro/opt/anaconda3/lib/python3.8/site-packages (from cycler>=0.10->matplotlib>=3.2.0->obspy) (1.15.0)\n",
      "Requirement already satisfied: chardet<5,>=3.0.2 in /Users/cristiancastro/opt/anaconda3/lib/python3.8/site-packages (from requests->obspy) (4.0.0)\n",
      "Requirement already satisfied: urllib3<1.27,>=1.21.1 in /Users/cristiancastro/opt/anaconda3/lib/python3.8/site-packages (from requests->obspy) (1.26.4)\n",
      "Requirement already satisfied: certifi>=2017.4.17 in /Users/cristiancastro/opt/anaconda3/lib/python3.8/site-packages (from requests->obspy) (2021.10.8)\n",
      "Requirement already satisfied: idna<3,>=2.5 in /Users/cristiancastro/opt/anaconda3/lib/python3.8/site-packages (from requests->obspy) (2.10)\n",
      "Requirement already satisfied: greenlet!=0.4.17 in /Users/cristiancastro/opt/anaconda3/lib/python3.8/site-packages (from sqlalchemy->obspy) (1.1.0)\n",
      "Installing collected packages: obspy\n",
      "Successfully installed obspy-1.3.0\n",
      "Note: you may need to restart the kernel to use updated packages.\n"
     ]
    }
   ],
   "source": [
    "pip install obspy"
   ]
  },
  {
   "cell_type": "markdown",
   "id": "775aab13",
   "metadata": {},
   "source": [
    "### Reading geojson file"
   ]
  },
  {
   "cell_type": "code",
   "execution_count": null,
   "id": "a92f5b5c",
   "metadata": {
    "scrolled": true
   },
   "outputs": [],
   "source": [
    "geo_data = gp.read_file('eixodevia.geojson', ignore_geometry=False, encoding = 'utf-8')\n",
    "\n",
    "# display(geo_data)"
   ]
  },
  {
   "cell_type": "markdown",
   "id": "a2596e54",
   "metadata": {},
   "source": [
    "### Plotting map with all the route ids"
   ]
  },
  {
   "cell_type": "code",
   "execution_count": null,
   "id": "d8c96e5b",
   "metadata": {
    "scrolled": true
   },
   "outputs": [],
   "source": [
    "geo_data.explore(column='Rua Id',cmap='Set2')"
   ]
  },
  {
   "cell_type": "markdown",
   "id": "fd6be895",
   "metadata": {},
   "source": [
    "### Reading and validating GTFS files"
   ]
  },
  {
   "cell_type": "code",
   "execution_count": null,
   "id": "05e2b11d",
   "metadata": {
    "scrolled": false
   },
   "outputs": [],
   "source": [
    "#Declare the directory path for the GTFS zip file\n",
    "path = Path(\"cascais.zip\")\n",
    "\n",
    "#Read the feed with gtfs-kit\n",
    "feed = (gk.read_feed(path, dist_units='km'))\n",
    "\n",
    "#Search for errors and warnings in the feed\n",
    "feed.validate()"
   ]
  },
  {
   "cell_type": "markdown",
   "id": "197a703f",
   "metadata": {},
   "source": [
    "### Plotting bus stops of Cascias using GTFS files"
   ]
  },
  {
   "cell_type": "code",
   "execution_count": null,
   "id": "4a349c72",
   "metadata": {},
   "outputs": [],
   "source": [
    "\n",
    "\n",
    "import warnings\n",
    "warnings.filterwarnings('ignore')\n",
    "\n",
    "#Check for errors in stops by plotting them to a map\n",
    "feed.map_stops(feed.stops.stop_id[:])"
   ]
  },
  {
   "cell_type": "markdown",
   "id": "681ad2e6",
   "metadata": {},
   "source": [
    "### Plotting bus routes using GTFS files"
   ]
  },
  {
   "cell_type": "code",
   "execution_count": null,
   "id": "4c71ff89",
   "metadata": {
    "scrolled": false
   },
   "outputs": [],
   "source": [
    "#Check for errors in routes by plotting them to a map\n",
    "feed.map_routes(feed.routes.route_id.iloc[:], include_stops=True)"
   ]
  },
  {
   "cell_type": "markdown",
   "id": "2a8599e9",
   "metadata": {},
   "source": [
    "### Converting busroutes and stops to Geojson data to visualise better"
   ]
  },
  {
   "cell_type": "code",
   "execution_count": null,
   "id": "6269c6bd",
   "metadata": {},
   "outputs": [],
   "source": [
    "bus_routes = feed.routes_to_geojson(feed.routes.route_id.iloc[:], include_stops=True)"
   ]
  },
  {
   "cell_type": "code",
   "execution_count": null,
   "id": "93bfcf86",
   "metadata": {},
   "outputs": [],
   "source": [
    "bus_rou_gp = gp.GeoDataFrame.from_features(bus_routes)"
   ]
  },
  {
   "cell_type": "markdown",
   "id": "3582b556",
   "metadata": {},
   "source": [
    "### Filtering geojson data only for one street named Avenida Vinte e Cinco de Abril"
   ]
  },
  {
   "cell_type": "code",
   "execution_count": null,
   "id": "88bae6db",
   "metadata": {},
   "outputs": [],
   "source": [
    "\n",
    "A2DA_geo_data = geo_data[geo_data.Nome == 'Avenida Vinte e Cinco de Abril']"
   ]
  },
  {
   "cell_type": "code",
   "execution_count": null,
   "id": "db580fc0",
   "metadata": {},
   "outputs": [],
   "source": [
    "# A2DA_geo_data"
   ]
  },
  {
   "cell_type": "markdown",
   "id": "6127fbd4",
   "metadata": {},
   "source": [
    "### Visualising the selected street and number of bus networks passing through that street"
   ]
  },
  {
   "cell_type": "code",
   "execution_count": null,
   "id": "175db3d0",
   "metadata": {
    "scrolled": true
   },
   "outputs": [],
   "source": [
    "m_routes_filtered_A2DA = A2DA_geo_data.explore(column='Rua Id',cmap='Set2')\n",
    "bus_rou_gp.explore(m=m_routes_filtered_A2DA, color=\"red\")\n",
    "folium.TileLayer('Stamen Toner', control=True).add_to(m_routes_filtered_A2DA)  # use folium to add alternative tiles\n",
    "folium.LayerControl().add_to(m_routes_filtered_A2DA)  # use folium to add layer control\n",
    "\n",
    "m_routes_filtered_A2DA  # show map"
   ]
  },
  {
   "cell_type": "markdown",
   "id": "27d8f580",
   "metadata": {},
   "source": [
    "### Filtering the geojson data only to street of our interest and some area around it"
   ]
  },
  {
   "cell_type": "code",
   "execution_count": null,
   "id": "50eb2337",
   "metadata": {},
   "outputs": [],
   "source": [
    "interest_geo_data = geo_data.cx[-9.4375:-9.4125, 38.69:38.71]"
   ]
  },
  {
   "cell_type": "code",
   "execution_count": null,
   "id": "607ecf18",
   "metadata": {},
   "outputs": [],
   "source": [
    "interest_geo_data.plot(figsize=(15, 15))\n"
   ]
  },
  {
   "cell_type": "code",
   "execution_count": null,
   "id": "37235185",
   "metadata": {},
   "outputs": [],
   "source": [
    "# interest_geo_data"
   ]
  },
  {
   "cell_type": "markdown",
   "id": "97a2d53a",
   "metadata": {},
   "source": [
    "### Plotting the intersections of the street using below get_intersections function"
   ]
  },
  {
   "cell_type": "code",
   "execution_count": null,
   "id": "36292afc",
   "metadata": {},
   "outputs": [],
   "source": [
    "def get_intersections(gdf, name, geom = 'geometry', crs = 4326):\n",
    "    intersections_gdf = pd.DataFrame()\n",
    "    name_2 = '{}_2'.format(name)\n",
    "    crs_init = {'init': 'epsg:{}'.format(crs)}\n",
    "    for index, row in gdf.iterrows():\n",
    "        row_intersections = gdf.intersection(row[geom])\n",
    "        row_intersection_points = row_intersections[row_intersections.geom_type == 'Point']\n",
    "        row_intersections_df = pd.DataFrame(row_intersection_points)\n",
    "        row_intersections_df[name_2] = row[name]\n",
    "        row_intersections_df = row_intersections_df.join(gdf[name])\n",
    "        intersections_gdf = row_intersections_df.append(intersections_gdf)\n",
    "\n",
    "    intersections_gdf = intersections_gdf.rename(columns={0: geom})\n",
    "    intersections_gdf['intersection'] = intersections_gdf.apply(lambda row: '-'.join(sorted([row[name_2], row[name]])), axis = 1)\n",
    "    intersections_gdf = intersections_gdf.groupby('intersection').first()\n",
    "    intersections_gdf = intersections_gdf.reset_index()\n",
    "    intersections_gdf = gp.GeoDataFrame(intersections_gdf, geometry = 'geometry')\n",
    "    intersections_gdf.crs = crs_init\n",
    "\n",
    "    return intersections_gdf"
   ]
  },
  {
   "cell_type": "code",
   "execution_count": null,
   "id": "f1b240be",
   "metadata": {},
   "outputs": [],
   "source": [
    "route_intersections = get_intersections(interest_geo_data, 'Rua Id')"
   ]
  },
  {
   "cell_type": "code",
   "execution_count": null,
   "id": "beb973c7",
   "metadata": {},
   "outputs": [],
   "source": [
    "# route_intersections"
   ]
  },
  {
   "cell_type": "code",
   "execution_count": null,
   "id": "d0856d15",
   "metadata": {},
   "outputs": [],
   "source": [
    "# route_intersections.plot(figsize=(15, 15))"
   ]
  },
  {
   "cell_type": "code",
   "execution_count": null,
   "id": "a76f5d17",
   "metadata": {},
   "outputs": [],
   "source": [
    "fig, ax = plt.subplots(figsize = (15,15))\n",
    "route_fig = interest_geo_data.plot(ax = ax, color = 'darkgray', label = 'Routes')\n",
    "intersect_points = route_intersections.plot(ax = ax, color = 'black', label = 'Route Intersections')\n",
    "ax.legend(shadow=True, fancybox=True)\n",
    "ax.set_title('Area of interest')\n",
    "plt.show()"
   ]
  },
  {
   "cell_type": "code",
   "execution_count": null,
   "id": "b07a6c83",
   "metadata": {},
   "outputs": [],
   "source": [
    "# route_intersections.explore()\n",
    "\n",
    "m_routes_intersection = route_intersections.explore(color=\"black\", legend = True)\n",
    "interest_geo_data.explore(m=m_routes_intersection, color=\"red\")\n",
    "folium.TileLayer('Stamen Toner', control=True).add_to(m_routes_intersection)  # use folium to add alternative tiles\n",
    "folium.LayerControl().add_to(m_routes_intersection)  # use folium to add layer control\n",
    "\n",
    "m_routes_intersection  # show map"
   ]
  },
  {
   "cell_type": "code",
   "execution_count": null,
   "id": "2b592aca",
   "metadata": {
    "scrolled": true
   },
   "outputs": [],
   "source": [
    "route_intersections"
   ]
  },
  {
   "cell_type": "markdown",
   "id": "4a29ad91",
   "metadata": {},
   "source": [
    "### Filtering data more to create one small instance"
   ]
  },
  {
   "cell_type": "code",
   "execution_count": null,
   "id": "7e93f584",
   "metadata": {},
   "outputs": [],
   "source": [
    "filtered_int_geo_data = geo_data.cx[-9.43756:-9.413442,38.691779:38.705018]"
   ]
  },
  {
   "cell_type": "code",
   "execution_count": null,
   "id": "733c1ebe",
   "metadata": {},
   "outputs": [],
   "source": [
    "filtered_intersections = get_intersections(filtered_int_geo_data, 'Rua Id')"
   ]
  },
  {
   "cell_type": "code",
   "execution_count": null,
   "id": "87d80d2b",
   "metadata": {},
   "outputs": [],
   "source": [
    "bus_rou_gp"
   ]
  },
  {
   "cell_type": "markdown",
   "id": "aa72323a",
   "metadata": {},
   "source": [
    "### Ploting only bus stops"
   ]
  },
  {
   "cell_type": "code",
   "execution_count": null,
   "id": "463a466a",
   "metadata": {},
   "outputs": [],
   "source": [
    "filtered_bus_stops = feed.stops"
   ]
  },
  {
   "cell_type": "code",
   "execution_count": null,
   "id": "35b4cc2e",
   "metadata": {},
   "outputs": [],
   "source": [
    "filtered_bus_stops = filtered_bus_stops[(filtered_bus_stops['stop_lat'] >= 38.691779) & (filtered_bus_stops['stop_lat'] <= 38.705018)]"
   ]
  },
  {
   "cell_type": "code",
   "execution_count": null,
   "id": "2c991af3",
   "metadata": {},
   "outputs": [],
   "source": [
    "filtered_bus_stops"
   ]
  },
  {
   "cell_type": "code",
   "execution_count": null,
   "id": "9e61bfe2",
   "metadata": {},
   "outputs": [],
   "source": [
    "filtered_bus_stops = filtered_bus_stops[(filtered_bus_stops['stop_lon'] >= -9.43756) & (filtered_bus_stops['stop_lon'] <= -9.413442)]"
   ]
  },
  {
   "cell_type": "code",
   "execution_count": null,
   "id": "1637c64c",
   "metadata": {},
   "outputs": [],
   "source": [
    "filtered_bus_stops"
   ]
  },
  {
   "cell_type": "code",
   "execution_count": null,
   "id": "42139260",
   "metadata": {},
   "outputs": [],
   "source": [
    "geometry = [Point(xy) for xy in zip(filtered_bus_stops.stop_lon, filtered_bus_stops.stop_lat)]\n",
    "df_bus_stops = filtered_bus_stops.drop(['stop_lon', 'stop_lat'], axis=1)\n",
    "bus_stops_gj = gp.GeoDataFrame(df_bus_stops, crs=\"EPSG:4326\", geometry=geometry)"
   ]
  },
  {
   "cell_type": "code",
   "execution_count": null,
   "id": "058380c9",
   "metadata": {},
   "outputs": [],
   "source": [
    "bus_stops_gj.explore()"
   ]
  },
  {
   "cell_type": "markdown",
   "id": "e714d26c",
   "metadata": {},
   "source": [
    "### Checking the busstops with the street intersections"
   ]
  },
  {
   "cell_type": "code",
   "execution_count": null,
   "id": "fd914586",
   "metadata": {},
   "outputs": [],
   "source": [
    "\n",
    "\n",
    "fig, ax = plt.subplots(figsize = (15,15))\n",
    "route_fig = filtered_int_geo_data.plot(ax = ax, color = 'darkgray', label = 'Routes')\n",
    "intersect_points = filtered_intersections.plot(ax = ax, color = 'black', label = 'Route Intersections')\n",
    "bus_stops = bus_stops_gj.plot(ax = ax, color = 'red', label = 'Bus Stops')\n",
    "ax.legend(shadow=True, fancybox=True)\n",
    "ax.set_title('Area of interest')\n",
    "plt.show()"
   ]
  },
  {
   "cell_type": "code",
   "execution_count": null,
   "id": "c7d0d48d",
   "metadata": {},
   "outputs": [],
   "source": [
    "m_routes_intersection = filtered_intersections.explore(color=\"black\", legend = True)\n",
    "filtered_int_geo_data.explore(m=m_routes_intersection, color=\"red\")\n",
    "folium.TileLayer('Stamen Toner', control=True).add_to(m_routes_intersection)  # use folium to add alternative tiles\n",
    "folium.LayerControl().add_to(m_routes_intersection)  # use folium to add layer control\n",
    "\n",
    "m_routes_intersection  # show map"
   ]
  },
  {
   "cell_type": "markdown",
   "id": "75778a0b",
   "metadata": {},
   "source": [
    "### Making the distance matrix without Rewards"
   ]
  },
  {
   "cell_type": "code",
   "execution_count": null,
   "id": "cd8f41ca",
   "metadata": {},
   "outputs": [],
   "source": [
    "filtered_int_geo_data.crs"
   ]
  },
  {
   "cell_type": "code",
   "execution_count": null,
   "id": "f20d1c3b",
   "metadata": {},
   "outputs": [],
   "source": [
    "poly_line = ((-9.43529, 38.69845), (-9.43531, 38.69842), (-9.43534, 38.69840), (-9.43538, 38.69838), (-9.43542, 38.69835), (-9.43548, 38.69832), (-9.43603, 38.69803))\n",
    "len_dist = 0\n",
    "for i in range(6):\n",
    "    len_dist += distance.distance((poly_line[i][0],poly_line[i][1]), (poly_line[i+1][0],poly_line[i+1][1])).km\n",
    "print(len_dist)"
   ]
  },
  {
   "cell_type": "code",
   "execution_count": null,
   "id": "2bbeec89",
   "metadata": {},
   "outputs": [],
   "source": [
    "degrees2kilometers(0.0008558264062900338)"
   ]
  },
  {
   "cell_type": "code",
   "execution_count": null,
   "id": "eafd35de",
   "metadata": {},
   "outputs": [],
   "source": [
    "distance_matrix = gp.GeoDataFrame()\n",
    "distance_matrix['rua_id'] = None\n",
    "distance_matrix['start_coord'] = None\n",
    "distance_matrix['end_coord'] = None\n",
    "distance_matrix['distance'] = None"
   ]
  },
  {
   "cell_type": "code",
   "execution_count": null,
   "id": "f4e366fa",
   "metadata": {},
   "outputs": [],
   "source": [
    "for index, row in filtered_int_geo_data.iterrows():\n",
    "    \n",
    "    coords = [(coords) for coords in list(row['geometry'].coords)]\n",
    "    first_coord, last_coord = [ coords[i] for i in (0, -1) ]\n",
    "    distance_matrix.at[index,'rua_id'] = row['Rua Id']\n",
    "    distance_matrix.at[index,'start_coord'] = first_coord\n",
    "    distance_matrix.at[index,'end_coord'] = last_coord\n",
    "    distance_matrix.at[index,'distance'] = degrees2kilometers(row['geometry'].length)"
   ]
  },
  {
   "cell_type": "code",
   "execution_count": null,
   "id": "22d8dfa1",
   "metadata": {
    "scrolled": true
   },
   "outputs": [],
   "source": [
    "distance_matrix"
   ]
  },
  {
   "cell_type": "markdown",
   "id": "a9f7dd77",
   "metadata": {},
   "source": [
    "### Comparing the linestring coordinates with street intersections"
   ]
  },
  {
   "cell_type": "code",
   "execution_count": null,
   "id": "d0e09a97",
   "metadata": {},
   "outputs": [],
   "source": [
    "coordinates = []\n",
    "coordinates = distance_matrix.start_coord\n",
    "geometry = [Point(point) for point in coordinates]\n",
    "matrix = gp.GeoDataFrame(distance_matrix, crs=\"EPSG:4326\", geometry=geometry)"
   ]
  },
  {
   "cell_type": "code",
   "execution_count": null,
   "id": "2758921f",
   "metadata": {},
   "outputs": [],
   "source": [
    "m_routes_intersection = route_intersections.explore(color=\"black\", legend = True)\n",
    "matrix.explore(m=m_routes_intersection, color=\"red\")\n",
    "folium.TileLayer('Stamen Toner', control=True).add_to(m_routes_intersection)  # use folium to add alternative tiles\n",
    "folium.LayerControl().add_to(m_routes_intersection)  # use folium to add layer control\n",
    "\n",
    "m_routes_intersection  # show map"
   ]
  },
  {
   "cell_type": "code",
   "execution_count": null,
   "id": "154ceb4a",
   "metadata": {},
   "outputs": [],
   "source": [
    "matrix.head()"
   ]
  },
  {
   "cell_type": "markdown",
   "id": "abb79109",
   "metadata": {},
   "source": [
    "### Finding out if bus stops are on edges\n",
    "\n"
   ]
  },
  {
   "cell_type": "code",
   "execution_count": null,
   "id": "ab6da200",
   "metadata": {},
   "outputs": [],
   "source": [
    "filtered_int_geo_data.reset_index(drop=True, inplace=True)\n",
    "bus_stops_gj.reset_index(drop=True, inplace=True)"
   ]
  },
  {
   "cell_type": "code",
   "execution_count": null,
   "id": "0746b3b1",
   "metadata": {},
   "outputs": [],
   "source": [
    "# functions to find out miinimum distance of bus stops from an edge\n",
    "\n",
    "def closest_line(point):\n",
    "    # get distances\n",
    "    distance_list = [line.distance(point) for line in filtered_int_geo_data.geometry]\n",
    "    shortest_distance = min(distance_list) # find the line closest to the point\n",
    "    return(distance_list.index(shortest_distance), # return the closest line\n",
    "           shortest_distance) # return the distance to that line\n",
    "\n",
    "point = bus_stops_gj.geometry[0]\n",
    "distance_list = [line.distance(point) for line in filtered_int_geo_data.geometry]\n",
    "\n",
    "shortest_distance = min(distance_list)\n",
    "distance_list.index(shortest_distance)\n",
    "\n",
    "print(filtered_int_geo_data.geometry[60])"
   ]
  },
  {
   "cell_type": "code",
   "execution_count": null,
   "id": "69ed9d9b",
   "metadata": {},
   "outputs": [],
   "source": [
    "# Update Matrix data frame with the availibility of bus stops on edges\n",
    "\n",
    "matrix['bus_stop']=0\n",
    "for bus_stop in bus_stops_gj.geometry:\n",
    "    row_number, min_distance = closest_line(bus_stop)\n",
    "    matrix.at[row_number,'bus_stop'] = 1\n",
    "    \n",
    "matrix['rewarded_distance']=matrix['distance']\n",
    "\n",
    "for index, row in matrix.iterrows():\n",
    "    if row['bus_stop']==1:\n",
    "        matrix.at[index,'rewarded_distance']=row['distance']*0.8\n",
    "        \n",
    "matrix.head()"
   ]
  },
  {
   "cell_type": "markdown",
   "id": "50949a19",
   "metadata": {},
   "source": [
    "# Implementation of Dijkstra's Aglorithm for Shortest Path"
   ]
  },
  {
   "cell_type": "code",
   "execution_count": null,
   "id": "6fc70f8e",
   "metadata": {},
   "outputs": [],
   "source": [
    "# converting GeodataFrame to pandas DataFrame\n",
    "\n",
    "rtm = matrix.copy(deep=True)\n",
    "\n",
    "rtm1 = pd.DataFrame(rtm[['start_coord','end_coord','distance']])\n",
    "rtm1['distance'] = pd.to_numeric(rtm1['distance'],errors = 'coerce').round(5)\n",
    "\n",
    "# converting to list for implementation of SPT Algorithm\n",
    "edges = list(rtm1.itertuples(index=False, name=None))"
   ]
  },
  {
   "cell_type": "code",
   "execution_count": null,
   "id": "63bbd5a1",
   "metadata": {},
   "outputs": [],
   "source": [
    "from collections import defaultdict\n",
    "\n",
    "class Graph():\n",
    "    def __init__(self):\n",
    "        \"\"\"\n",
    "        self.edges is a dict of all possible next nodes\n",
    "        e.g. {'X': ['A', 'B', 'C', 'E'], ...}\n",
    "        self.weights has all the weights between two nodes,\n",
    "        with the two nodes as a tuple as the key\n",
    "        e.g. {('X', 'A'): 7, ('X', 'B'): 2, ...}\n",
    "        \"\"\"\n",
    "        self.edges = defaultdict(list)\n",
    "        self.weights = {}\n",
    "    \n",
    "    def add_edge(self, from_node, to_node, weight):\n",
    "        # Note: assumes edges are bi-directional\n",
    "        self.edges[from_node].append(to_node)\n",
    "        self.edges[to_node].append(from_node)\n",
    "        self.weights[(from_node, to_node)] = weight\n",
    "        self.weights[(to_node, from_node)] = weight"
   ]
  },
  {
   "cell_type": "code",
   "execution_count": null,
   "id": "44917c2d",
   "metadata": {},
   "outputs": [],
   "source": [
    "def dijsktra(graph, initial, end):\n",
    "    # shortest paths is a dict of nodes\n",
    "    # whose value is a tuple of (previous node, weight)\n",
    "    shortest_paths = {initial: (None, 0)}\n",
    "    current_node = initial\n",
    "    visited = set()\n",
    "    \n",
    "    while current_node != end:\n",
    "        visited.add(current_node)\n",
    "        destinations = graph.edges[current_node]\n",
    "        weight_to_current_node = shortest_paths[current_node][1]\n",
    "\n",
    "        for next_node in destinations:\n",
    "            weight = graph.weights[(current_node, next_node)] + weight_to_current_node\n",
    "            if next_node not in shortest_paths:\n",
    "                shortest_paths[next_node] = (current_node, weight)\n",
    "            else:\n",
    "                current_shortest_weight = shortest_paths[next_node][1]\n",
    "                if current_shortest_weight > weight:\n",
    "                    shortest_paths[next_node] = (current_node, weight)\n",
    "        \n",
    "        next_destinations = {node: shortest_paths[node] for node in shortest_paths if node not in visited}\n",
    "        if not next_destinations:\n",
    "            return \"Route Not Possible\"\n",
    "        # next node is the destination with the lowest weight\n",
    "        current_node = min(next_destinations, key=lambda k: next_destinations[k][1])\n",
    "    \n",
    "    # Work back through destinations in shortest path\n",
    "    path = []\n",
    "    while current_node is not None:\n",
    "        path.append(current_node)\n",
    "        next_node = shortest_paths[current_node][0]\n",
    "        current_node = next_node\n",
    "    # Reverse path\n",
    "    path = path[::-1]\n",
    "    return path"
   ]
  },
  {
   "cell_type": "code",
   "execution_count": null,
   "id": "880cab38",
   "metadata": {},
   "outputs": [],
   "source": [
    "# Adding edges to graph\n",
    "\n",
    "graph = Graph()\n",
    "for edge in edges:\n",
    "    graph.add_edge(*edge)"
   ]
  },
  {
   "cell_type": "code",
   "execution_count": null,
   "id": "6bef8a5e",
   "metadata": {},
   "outputs": [],
   "source": [
    "# (-9.4301681513, 38.6961235383)\n",
    "# (-9.4296513887, 38.7040219405)\n"
   ]
  },
  {
   "cell_type": "code",
   "execution_count": null,
   "id": "406f7e75",
   "metadata": {},
   "outputs": [],
   "source": [
    "# Finding the shortest path between start and end coordinates\n",
    "\n",
    "shortest_route = dijsktra(graph,(-9.430754341, 38.694451877),(-9.4209469339, 38.7008490124))\n",
    "shortest_route"
   ]
  },
  {
   "cell_type": "code",
   "execution_count": null,
   "id": "2dc9a847",
   "metadata": {},
   "outputs": [],
   "source": [
    "import geopandas as gpd\n",
    "from shapely.geometry import Polygon\n",
    "\n",
    "polygon = LineString(shortest_route)\n",
    "\n",
    "gdf = gpd.GeoDataFrame(index=[0], crs='epsg:4326', geometry=[polygon])\n",
    "gdf.explore()"
   ]
  },
  {
   "cell_type": "code",
   "execution_count": null,
   "id": "5e1da2cc",
   "metadata": {},
   "outputs": [],
   "source": [
    "original_route = pd.DataFrame(rtm1['start_coord'])\n",
    "original_route.head()\n",
    "test = original_route['start_coord'].to_list()\n",
    "test"
   ]
  },
  {
   "cell_type": "code",
   "execution_count": null,
   "id": "f343dd4f",
   "metadata": {},
   "outputs": [],
   "source": [
    "# polygon_original = LineString(test)\n",
    "\n",
    "# gdf_original = gpd.GeoDataFrame(index=[0], crs='epsg:4326', geometry=[polygon_original])\n",
    "# #print(gdf_original)\n",
    "# gdf_original.explore()"
   ]
  },
  {
   "cell_type": "markdown",
   "id": "55aacf6a",
   "metadata": {},
   "source": [
    "## Test by Removing a Segment"
   ]
  },
  {
   "cell_type": "code",
   "execution_count": null,
   "id": "63619749",
   "metadata": {},
   "outputs": [],
   "source": [
    "# nodes to delete\n",
    "\n",
    "# removed_section = [(-9.4293399588, 38.6975840454),(-9.427891414, 38.6987539024),(-9.4285920277, 38.6982331435)\n",
    "#                       ,(-9.4268123772, 38.6995415008),(-9.4301681513, 38.6961235383)]\n",
    "\n",
    "\n",
    "#removed_section = [(-9.4301681513, 38.6961235383)]\n",
    "\n",
    "# removed_section = [(-9.4300212489, 38.7017111637),(-9.4302758283, 38.7021729478),(-9.4294039633, 38.702505643)]\n",
    "\n",
    "removed_section = [(-9.4293399588, 38.6975840454),(-9.4301681513, 38.6961235383)]\n",
    "\n"
   ]
  },
  {
   "cell_type": "code",
   "execution_count": null,
   "id": "dcbc2f78",
   "metadata": {},
   "outputs": [],
   "source": [
    "rtm2 = pd.DataFrame(rtm[['start_coord','end_coord','rewarded_distance']])\n",
    "rtm2['rewarded_distance'] = pd.to_numeric(rtm2['rewarded_distance'],errors = 'coerce').round(5)\n",
    "\n",
    "rtm_test = rtm2.copy(deep=True)\n",
    "rtm_test.head()"
   ]
  },
  {
   "cell_type": "code",
   "execution_count": null,
   "id": "c594db30",
   "metadata": {},
   "outputs": [],
   "source": [
    "# removed the selected sections\n",
    "\n",
    "for i in removed_section:\n",
    "    rtm_test = rtm_test[rtm_test['end_coord']!=i]\n",
    "    rtm_test = rtm_test[rtm_test['start_coord']!=i]\n",
    "\n",
    "# convert the panda Dataframe to list\n",
    "edges_test = list(rtm_test.itertuples(index=False, name=None))"
   ]
  },
  {
   "cell_type": "code",
   "execution_count": null,
   "id": "1813692e",
   "metadata": {},
   "outputs": [],
   "source": [
    "from collections import defaultdict\n",
    "\n",
    "\n",
    "class Graph():\n",
    "    def __init__(self):\n",
    "        \"\"\"\n",
    "        self.edges is a dict of all possible next nodes\n",
    "        e.g. {'X': ['A', 'B', 'C', 'E'], ...}\n",
    "        self.weights has all the weights between two nodes,\n",
    "        with the two nodes as a tuple as the key\n",
    "        e.g. {('X', 'A'): 7, ('X', 'B'): 2, ...}\n",
    "        \"\"\"\n",
    "        self.edges = defaultdict(list)\n",
    "        self.weights = {}\n",
    "    \n",
    "    def add_edge(self, from_node, to_node, weight):\n",
    "        # Note: assumes edges are bi-directional\n",
    "        self.edges[from_node].append(to_node)\n",
    "        self.edges[to_node].append(from_node)\n",
    "        self.weights[(from_node, to_node)] = weight\n",
    "        self.weights[(to_node, from_node)] = weight\n",
    "        \n",
    "        \n",
    "        \n",
    "        \n",
    "def dijsktra(graph, initial, end):\n",
    "    # shortest paths is a dict of nodes\n",
    "    # whose value is a tuple of (previous node, weight)\n",
    "    shortest_paths = {initial: (None, 0)}\n",
    "    current_node = initial\n",
    "    visited = set()\n",
    "    \n",
    "    while current_node != end:\n",
    "        visited.add(current_node)\n",
    "        destinations = graph.edges[current_node]\n",
    "        weight_to_current_node = shortest_paths[current_node][1]\n",
    "\n",
    "        for next_node in destinations:\n",
    "            weight = graph.weights[(current_node, next_node)] + weight_to_current_node\n",
    "            if next_node not in shortest_paths:\n",
    "                shortest_paths[next_node] = (current_node, weight)\n",
    "            else:\n",
    "                current_shortest_weight = shortest_paths[next_node][1]\n",
    "                if current_shortest_weight > weight:\n",
    "                    shortest_paths[next_node] = (current_node, weight)\n",
    "        \n",
    "        next_destinations = {node: shortest_paths[node] for node in shortest_paths if node not in visited}\n",
    "        if not next_destinations:\n",
    "            return \"Route Not Possible\"\n",
    "        # next node is the destination with the lowest weight\n",
    "        current_node = min(next_destinations, key=lambda k: next_destinations[k][1])\n",
    "    \n",
    "    # Work back through destinations in shortest path\n",
    "    path = []\n",
    "    while current_node is not None:\n",
    "        path.append(current_node)\n",
    "        next_node = shortest_paths[current_node][0]\n",
    "        current_node = next_node\n",
    "    # Reverse path\n",
    "    path = path[::-1]\n",
    "    return path"
   ]
  },
  {
   "cell_type": "code",
   "execution_count": null,
   "id": "7c051d4c",
   "metadata": {},
   "outputs": [],
   "source": [
    "graph_test = Graph()\n",
    "for edge_test in edges_test:\n",
    "    graph_test.add_edge(*edge_test)"
   ]
  },
  {
   "cell_type": "code",
   "execution_count": null,
   "id": "4dcf5cf8",
   "metadata": {},
   "outputs": [],
   "source": [
    "shortest_route_test = dijsktra(graph_test,(-9.430754341, 38.694451877),(-9.4209469339, 38.7008490124))\n",
    "shortest_route_test"
   ]
  },
  {
   "cell_type": "code",
   "execution_count": null,
   "id": "bf40126c",
   "metadata": {},
   "outputs": [],
   "source": [
    "polygon_test = LineString(shortest_route_test)\n",
    "\n",
    "gdf_test = gpd.GeoDataFrame(index=[0], crs='epsg:4326', geometry=[polygon_test])\n",
    "m_test = gdf_test.explore(color=\"Blue\")\n",
    "\n",
    "gdf.explore(m=m_test, color=\"red\")"
   ]
  },
  {
   "cell_type": "code",
   "execution_count": null,
   "id": "51e7a41e",
   "metadata": {},
   "outputs": [],
   "source": [
    "degrees2kilometers(polygon.length),degrees2kilometers(polygon_test.length)"
   ]
  },
  {
   "cell_type": "code",
   "execution_count": null,
   "id": "067a662a",
   "metadata": {},
   "outputs": [],
   "source": [
    "degrees2kilometers(polygon.length),degrees2kilometers(polygon_test.length)"
   ]
  },
  {
   "cell_type": "code",
   "execution_count": null,
   "id": "1b090de5",
   "metadata": {},
   "outputs": [],
   "source": []
  },
  {
   "cell_type": "code",
   "execution_count": null,
   "id": "9d93b285",
   "metadata": {},
   "outputs": [],
   "source": []
  },
  {
   "cell_type": "code",
   "execution_count": null,
   "id": "65514be4",
   "metadata": {},
   "outputs": [],
   "source": []
  }
 ],
 "metadata": {
  "kernelspec": {
   "display_name": "Python 3",
   "language": "python",
   "name": "python3"
  },
  "language_info": {
   "codemirror_mode": {
    "name": "ipython",
    "version": 3
   },
   "file_extension": ".py",
   "mimetype": "text/x-python",
   "name": "python",
   "nbconvert_exporter": "python",
   "pygments_lexer": "ipython3",
   "version": "3.8.13"
  }
 },
 "nbformat": 4,
 "nbformat_minor": 5
}
